{
 "cells": [
  {
   "cell_type": "code",
   "execution_count": 11,
   "metadata": {},
   "outputs": [],
   "source": [
    "import tflite_runtime.interpreter as tflite\n",
    "from keras_image_helper import create_preprocessor\n",
    "import numpy as np"
   ]
  },
  {
   "cell_type": "code",
   "execution_count": 12,
   "metadata": {},
   "outputs": [],
   "source": [
    "def softmax(x):\n",
    "    return(np.exp(x)/np.exp(x).sum())"
   ]
  },
  {
   "cell_type": "code",
   "execution_count": 2,
   "metadata": {},
   "outputs": [],
   "source": [
    "TF_MODEL_FILE_PATH = 'eye_model.tflite'\n",
    "\n",
    "interpreter = tflite.Interpreter(model_path=TF_MODEL_FILE_PATH)"
   ]
  },
  {
   "cell_type": "code",
   "execution_count": 3,
   "metadata": {},
   "outputs": [
    {
     "data": {
      "text/plain": [
       "{'serving_default': {'inputs': ['input_20'], 'outputs': ['dense_79']}}"
      ]
     },
     "execution_count": 3,
     "metadata": {},
     "output_type": "execute_result"
    }
   ],
   "source": [
    "interpreter.get_signature_list()"
   ]
  },
  {
   "cell_type": "code",
   "execution_count": 4,
   "metadata": {},
   "outputs": [],
   "source": [
    "interpreter.allocate_tensors()\n",
    "\n",
    "input_index = interpreter.get_input_details()[0]['index']\n",
    "output_index = interpreter.get_output_details()[0]['index']"
   ]
  },
  {
   "cell_type": "code",
   "execution_count": 9,
   "metadata": {},
   "outputs": [],
   "source": [
    "path = 'gender_eye/test/Image_3.jpg'\n",
    "\n",
    "# img = load_img(path, target_size=(input_size, input_size))\n",
    "\n",
    "# x = np.array(img)\n",
    "# X = np.array([x])\n",
    "\n",
    "preprocessor = create_preprocessor('resnet50', target_size=(224, 224))\n",
    "\n",
    "X = preprocessor.from_path(path)\n",
    "\n",
    "# X = preprocess_input(X)"
   ]
  },
  {
   "cell_type": "code",
   "execution_count": 10,
   "metadata": {},
   "outputs": [],
   "source": [
    "interpreter.set_tensor(input_index, X)\n",
    "interpreter.invoke()\n",
    "preds = interpreter.get_tensor(output_index)"
   ]
  },
  {
   "cell_type": "code",
   "execution_count": 14,
   "metadata": {},
   "outputs": [
    {
     "name": "stdout",
     "output_type": "stream",
     "text": [
      " {'female': 0.08268887549638748, 'male': 0.9173110723495483}. This eye most likely belongs to male with a 69.73 percent confidence.\n"
     ]
    }
   ],
   "source": [
    "float_predictions = preds[0].tolist()\n",
    "\n",
    "score_lite = softmax(float_predictions)\n",
    "\n",
    "classes = ['female', 'male']\n",
    "\n",
    "    # return dict(zip(classes, float_predictions))\n",
    "print(\" {}. This eye most likely belongs to {} with a {:.2f} percent confidence.\".format(\n",
    "        dict(zip(classes, float_predictions)), classes[np.argmax(score_lite)], 100 * np.max(score_lite)))\n"
   ]
  },
  {
   "cell_type": "code",
   "execution_count": null,
   "metadata": {},
   "outputs": [],
   "source": [
    "\n",
    "\n",
    "\n"
   ]
  }
 ],
 "metadata": {
  "kernelspec": {
   "display_name": "tensorflow",
   "language": "python",
   "name": "python3"
  },
  "language_info": {
   "codemirror_mode": {
    "name": "ipython",
    "version": 3
   },
   "file_extension": ".py",
   "mimetype": "text/x-python",
   "name": "python",
   "nbconvert_exporter": "python",
   "pygments_lexer": "ipython3",
   "version": "3.9.15"
  },
  "orig_nbformat": 4,
  "vscode": {
   "interpreter": {
    "hash": "ad87721d00269a0243ed5de4ed23775ddbc07181f65d51be303a6d14e0f00d70"
   }
  }
 },
 "nbformat": 4,
 "nbformat_minor": 2
}
